{
 "cells": [
  {
   "cell_type": "code",
   "execution_count": 1,
   "metadata": {},
   "outputs": [
    {
     "name": "stdout",
     "output_type": "stream",
     "text": [
      "Looking in indexes: https://pypi.tuna.tsinghua.edu.cn/simple/\n",
      "Collecting replicate\n",
      "  Downloading https://pypi.tuna.tsinghua.edu.cn/packages/f5/cd/fe5646cca8216fb9b45970b11dc933ac6bc065e983cd64cf2e4a5620efe5/replicate-0.23.1-py3-none-any.whl (36 kB)\n",
      "Collecting httpx<1,>=0.21.0 (from replicate)\n",
      "  Downloading https://pypi.tuna.tsinghua.edu.cn/packages/39/9b/4937d841aee9c2c8102d9a4eeb800c7dad25386caabb4a1bf5010df81a57/httpx-0.26.0-py3-none-any.whl (75 kB)\n",
      "\u001b[2K     \u001b[90m━━━━━━━━━━━━━━━━━━━━━━━━━━━━━━━━━━━━━━━\u001b[0m \u001b[32m75.9/75.9 kB\u001b[0m \u001b[31m844.4 kB/s\u001b[0m eta \u001b[36m0:00:00\u001b[0m \u001b[36m0:00:01\u001b[0m\n",
      "\u001b[?25hRequirement already satisfied: packaging in /Users/wmy/anaconda3/lib/python3.11/site-packages (from replicate) (23.0)\n",
      "Collecting pydantic>1 (from replicate)\n",
      "  Downloading https://pypi.tuna.tsinghua.edu.cn/packages/db/dc/afecbd9650f486889181c6d1a0d675b580c06253ea7e304588e4c7485bdb/pydantic-2.6.1-py3-none-any.whl (394 kB)\n",
      "\u001b[2K     \u001b[90m━━━━━━━━━━━━━━━━━━━━━━━━━━━━━━━━━━━━━━━\u001b[0m \u001b[32m394.8/394.8 kB\u001b[0m \u001b[31m3.0 MB/s\u001b[0m eta \u001b[36m0:00:00\u001b[0m00:01\u001b[0m00:01\u001b[0m\n",
      "\u001b[?25hRequirement already satisfied: typing-extensions>=4.5.0 in /Users/wmy/anaconda3/lib/python3.11/site-packages (from replicate) (4.7.1)\n",
      "Requirement already satisfied: anyio in /Users/wmy/anaconda3/lib/python3.11/site-packages (from httpx<1,>=0.21.0->replicate) (3.5.0)\n",
      "Requirement already satisfied: certifi in /Users/wmy/anaconda3/lib/python3.11/site-packages (from httpx<1,>=0.21.0->replicate) (2023.7.22)\n",
      "Collecting httpcore==1.* (from httpx<1,>=0.21.0->replicate)\n",
      "  Downloading https://pypi.tuna.tsinghua.edu.cn/packages/56/ba/78b0a99c4da0ff8b0f59defa2f13ca4668189b134bd9840b6202a93d9a0f/httpcore-1.0.2-py3-none-any.whl (76 kB)\n",
      "\u001b[2K     \u001b[90m━━━━━━━━━━━━━━━━━━━━━━━━━━━━━━━━━━━━━━━━\u001b[0m \u001b[32m76.9/76.9 kB\u001b[0m \u001b[31m2.6 MB/s\u001b[0m eta \u001b[36m0:00:00\u001b[0m\n",
      "\u001b[?25hRequirement already satisfied: idna in /Users/wmy/anaconda3/lib/python3.11/site-packages (from httpx<1,>=0.21.0->replicate) (3.4)\n",
      "Requirement already satisfied: sniffio in /Users/wmy/anaconda3/lib/python3.11/site-packages (from httpx<1,>=0.21.0->replicate) (1.2.0)\n",
      "Collecting h11<0.15,>=0.13 (from httpcore==1.*->httpx<1,>=0.21.0->replicate)\n",
      "  Using cached https://pypi.tuna.tsinghua.edu.cn/packages/95/04/ff642e65ad6b90db43e668d70ffb6736436c7ce41fcc549f4e9472234127/h11-0.14.0-py3-none-any.whl (58 kB)\n",
      "Collecting annotated-types>=0.4.0 (from pydantic>1->replicate)\n",
      "  Downloading https://pypi.tuna.tsinghua.edu.cn/packages/28/78/d31230046e58c207284c6b2c4e8d96e6d3cb4e52354721b944d3e1ee4aa5/annotated_types-0.6.0-py3-none-any.whl (12 kB)\n",
      "Collecting pydantic-core==2.16.2 (from pydantic>1->replicate)\n",
      "  Downloading https://pypi.tuna.tsinghua.edu.cn/packages/f1/b4/488bf46ae6ed0b58b9fbaea0ea7f954eb60a63e1eae7e55d708cbd1857b8/pydantic_core-2.16.2-cp311-cp311-macosx_10_12_x86_64.whl (1.9 MB)\n",
      "\u001b[2K     \u001b[90m━━━━━━━━━━━━━━━━━━━━━━━━━━━━━━━━━━━━━━━━\u001b[0m \u001b[32m1.9/1.9 MB\u001b[0m \u001b[31m8.0 MB/s\u001b[0m eta \u001b[36m0:00:00\u001b[0m00:01\u001b[0m:00:01\u001b[0m\n",
      "\u001b[?25hInstalling collected packages: pydantic-core, h11, annotated-types, pydantic, httpcore, httpx, replicate\n",
      "Successfully installed annotated-types-0.6.0 h11-0.14.0 httpcore-1.0.2 httpx-0.26.0 pydantic-2.6.1 pydantic-core-2.16.2 replicate-0.23.1\n"
     ]
    }
   ],
   "source": [
    "!pip install replicate"
   ]
  },
  {
   "cell_type": "code",
   "execution_count": 5,
   "metadata": {},
   "outputs": [],
   "source": [
    "# get a token: https://replicate.com/account\n",
    "from getpass import getpass\n",
    "import os\n",
    "\n",
    "# REPLICATE_API_TOKEN = getpass()\n",
    "REPLICATE_API_TOKEN = 'r8_6pt2AEnUUugip37iGLoIxQylfSkGMml2beEk4'\n",
    "os.environ[\"REPLICATE_API_TOKEN\"] = REPLICATE_API_TOKEN"
   ]
  },
  {
   "cell_type": "code",
   "execution_count": 7,
   "metadata": {},
   "outputs": [
    {
     "data": {
      "text/html": [
       "<img src=\"https://replicate.delivery/pbxt/uzD7FA3FMI7qAdRoJYgdnENw69Mc1BuSeFMKy7KbuZUTLxKJA/out-0.png\"/>"
      ],
      "text/plain": [
       "<IPython.core.display.Image object>"
      ]
     },
     "execution_count": 7,
     "metadata": {},
     "output_type": "execute_result"
    }
   ],
   "source": [
    "import replicate\n",
    "from IPython.display import Image\n",
    "\n",
    "image = open(\"./sketched_images/indoor.jpg\", \"rb\")\n",
    "\n",
    "output = replicate.run(\n",
    "    \"rossjillian/controlnet:795433b19458d0f4fa172a7ccf93178d2adb1cb8ab2ad6c8fdc33fdbcd49f477\",\n",
    "    input={\n",
    "        \"image\": image,\n",
    "        \"prompt\": \"interior decoration.\",\n",
    "        \"structure\": \"scribble\"\n",
    "    }\n",
    ")\n",
    "\n",
    "Image(url=output[0])"
   ]
  }
 ],
 "metadata": {
  "kernelspec": {
   "display_name": "base",
   "language": "python",
   "name": "python3"
  },
  "language_info": {
   "codemirror_mode": {
    "name": "ipython",
    "version": 3
   },
   "file_extension": ".py",
   "mimetype": "text/x-python",
   "name": "python",
   "nbconvert_exporter": "python",
   "pygments_lexer": "ipython3",
   "version": "3.11.4"
  }
 },
 "nbformat": 4,
 "nbformat_minor": 2
}
